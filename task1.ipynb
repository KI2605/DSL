{
  "nbformat": 4,
  "nbformat_minor": 0,
  "metadata": {
    "colab": {
      "name": "Untitled0.ipynb",
      "provenance": [],
      "authorship_tag": "ABX9TyOvkCl2ZseoQqTrTgRrkQsf",
      "include_colab_link": true
    },
    "kernelspec": {
      "name": "python3",
      "display_name": "Python 3"
    },
    "language_info": {
      "name": "python"
    }
  },
  "cells": [
    {
      "cell_type": "markdown",
      "metadata": {
        "id": "view-in-github",
        "colab_type": "text"
      },
      "source": [
        "<a href=\"https://colab.research.google.com/github/KI2605/DSL/blob/main/task1.ipynb\" target=\"_parent\"><img src=\"https://colab.research.google.com/assets/colab-badge.svg\" alt=\"Open In Colab\"/></a>"
      ]
    },
    {
      "cell_type": "code",
      "metadata": {
        "id": "6U3eIl4aR54x"
      },
      "source": [
        "# read_text - is a function, which opens file, reads its content\n",
        "# and writes text into a string variable\n",
        "\n",
        "def read_text(FILE):\n",
        "    with open(FILE, \"r\") as file:\n",
        "     text = file.read()\n",
        "     return text\n",
        "\n",
        "# split_by_whitespaces - is a function, which splits TextString by whitespaces\n",
        "# and adds strings into a list\n",
        "\n",
        "def split_by_whitespaces(text,WHITESPACES):\n",
        "    splited = []\n",
        "    current_token = \"\"\n",
        "#we itterate over the string and check if the current elemnt(i) is in whitespaces\n",
        "# if yes we add current word to our list,\n",
        "# if not we add current element(i) to the word(string) \n",
        "    for i in text:\n",
        "        if i in WHITESPACES:\n",
        "            splited.append(current_token)\n",
        "            current_token = \"\"\n",
        "        elif (current_token == \"\" and i in WHITESPACES):\n",
        "            continue\n",
        "        else:\n",
        "            current_token+=i\n",
        "    if len(current_token) != 0:\n",
        "        splited.append(current_token)\n",
        "\n",
        "    return splited\n",
        "if __name__ == '__main__': \n",
        "    # separator symbols\n",
        "    # defined as a set for more efficient check of symbols\n",
        "    WHITESPACES = {' ', '\\n', '\\t'}\n",
        "    # content file name\n",
        "    FILE = \"data.txt\"\n",
        "    text = read_text(FILE)\n",
        "    print(split_by_whitespaces(text,WHITESPACES))\n",
        "    print(text.split())"
      ],
      "execution_count": null,
      "outputs": []
    }
  ]
}